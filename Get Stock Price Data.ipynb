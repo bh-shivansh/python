{
 "cells": [
  {
   "cell_type": "code",
   "execution_count": 1,
   "metadata": {},
   "outputs": [
    {
     "name": "stdout",
     "output_type": "stream",
     "text": [
      "                  Open        High         Low       Close   Adj Close  \\\n",
      "Date                                                                     \n",
      "2023-08-31  187.839996  189.119995  187.479996  187.869995  186.913528   \n",
      "2023-09-01  189.490005  189.919998  188.279999  189.460007  188.495453   \n",
      "2023-09-05  188.279999  189.979996  187.610001  189.699997  188.734222   \n",
      "2023-09-06  188.399994  188.850006  181.470001  182.910004  181.978806   \n",
      "2023-09-07  175.179993  178.210007  173.539993  177.559998  176.656021   \n",
      "\n",
      "               Volume  \n",
      "Date                   \n",
      "2023-08-31   60794500  \n",
      "2023-09-01   45732600  \n",
      "2023-09-05   45280000  \n",
      "2023-09-06   81755800  \n",
      "2023-09-07  112488800  \n"
     ]
    }
   ],
   "source": [
    "import pandas as pd\n",
    "import yfinance as yf\n",
    "import datetime\n",
    "from datetime import date, timedelta\n",
    "today = date.today()\n",
    "\n",
    "d1 = today.strftime(\"%Y-%m-%d\")\n",
    "end_date = d1\n",
    "d2 = date.today() - timedelta(days=360)\n",
    "d2 = d2.strftime(\"%Y-%m-%d\")\n",
    "start_date = d2\n",
    "\n",
    "data = yf.download('AAPL', \n",
    "                      start=start_date, \n",
    "                      end=end_date, \n",
    "                      progress=False)\n",
    "print(data.head())"
   ]
  },
  {
   "cell_type": "code",
   "execution_count": 2,
   "metadata": {},
   "outputs": [
    {
     "name": "stdout",
     "output_type": "stream",
     "text": [
      "        Date        Open        High         Low       Close   Adj Close  \\\n",
      "0 2023-08-31  187.839996  189.119995  187.479996  187.869995  186.913528   \n",
      "1 2023-09-01  189.490005  189.919998  188.279999  189.460007  188.495453   \n",
      "2 2023-09-05  188.279999  189.979996  187.610001  189.699997  188.734222   \n",
      "3 2023-09-06  188.399994  188.850006  181.470001  182.910004  181.978806   \n",
      "4 2023-09-07  175.179993  178.210007  173.539993  177.559998  176.656021   \n",
      "\n",
      "      Volume  \n",
      "0   60794500  \n",
      "1   45732600  \n",
      "2   45280000  \n",
      "3   81755800  \n",
      "4  112488800  \n"
     ]
    }
   ],
   "source": [
    "data[\"Date\"] = data.index\n",
    "data = data[[\"Date\", \"Open\", \"High\", \n",
    "             \"Low\", \"Close\", \"Adj Close\", \"Volume\"]]\n",
    "data.reset_index(drop=True, inplace=True)\n",
    "print(data.head())"
   ]
  }
 ],
 "metadata": {
  "kernelspec": {
   "display_name": "Python 3",
   "language": "python",
   "name": "python3"
  },
  "language_info": {
   "codemirror_mode": {
    "name": "ipython",
    "version": 3
   },
   "file_extension": ".py",
   "mimetype": "text/x-python",
   "name": "python",
   "nbconvert_exporter": "python",
   "pygments_lexer": "ipython3",
   "version": "3.12.4"
  }
 },
 "nbformat": 4,
 "nbformat_minor": 2
}
